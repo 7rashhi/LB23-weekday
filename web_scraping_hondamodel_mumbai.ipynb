{
  "nbformat": 4,
  "nbformat_minor": 0,
  "metadata": {
    "colab": {
      "provenance": [],
      "gpuType": "T4",
      "authorship_tag": "ABX9TyMlsDZ2yZ5WL+GsbpQqjAof",
      "include_colab_link": true
    },
    "kernelspec": {
      "name": "python3",
      "display_name": "Python 3"
    },
    "language_info": {
      "name": "python"
    },
    "accelerator": "GPU"
  },
  "cells": [
    {
      "cell_type": "markdown",
      "metadata": {
        "id": "view-in-github",
        "colab_type": "text"
      },
      "source": [
        "<a href=\"https://colab.research.google.com/github/7rashhi/LB23-weekday/blob/main/web_scraping_hondamodel_mumbai.ipynb\" target=\"_parent\"><img src=\"https://colab.research.google.com/assets/colab-badge.svg\" alt=\"Open In Colab\"/></a>"
      ]
    },
    {
      "cell_type": "code",
      "execution_count": 1,
      "metadata": {
        "id": "hRcQ3jqFTZ55"
      },
      "outputs": [],
      "source": [
        "from bs4 import BeautifulSoup\n",
        "import pandas as pd\n",
        "import requests\n",
        "import re\n"
      ]
    },
    {
      "cell_type": "code",
      "source": [
        "url1  = 'https://www.cars24.com/buy-used-honda-cars-mumbai/'\n",
        "url='https://www.cars24.com/buy-used-car?f=make%3A%3D%3Ahonda&sort=bestmatch&serveWarrantyCount=true&listingSource=Homepage_Filters&storeCityId=2378'\n",
        "page = requests.get(url)\n",
        "soup = BeautifulSoup(page.text,'html.parser')"
      ],
      "metadata": {
        "id": "_sKNuHrGTeUg"
      },
      "execution_count": 2,
      "outputs": []
    },
    {
      "cell_type": "code",
      "source": [
        "requests.get(url)"
      ],
      "metadata": {
        "colab": {
          "base_uri": "https://localhost:8080/"
        },
        "id": "kFfv6VBJVbxa",
        "outputId": "06c58913-98ea-4496-a681-52d3129cf4fa"
      },
      "execution_count": 3,
      "outputs": [
        {
          "output_type": "execute_result",
          "data": {
            "text/plain": [
              "<Response [403]>"
            ]
          },
          "metadata": {},
          "execution_count": 3
        }
      ]
    },
    {
      "cell_type": "code",
      "source": [
        "requests.get(url1)"
      ],
      "metadata": {
        "colab": {
          "base_uri": "https://localhost:8080/"
        },
        "id": "6Wq8smTnVnYT",
        "outputId": "8dc7d400-4894-4682-c6db-8d76448cc233"
      },
      "execution_count": 4,
      "outputs": [
        {
          "output_type": "execute_result",
          "data": {
            "text/plain": [
              "<Response [403]>"
            ]
          },
          "metadata": {},
          "execution_count": 4
        }
      ]
    },
    {
      "cell_type": "code",
      "source": [
        "Cars_dict = {}\n",
        "cars_no = 0\n",
        "no_page = 1\n"
      ],
      "metadata": {
        "id": "zn4F9piiVp2t"
      },
      "execution_count": 5,
      "outputs": []
    },
    {
      "cell_type": "code",
      "source": [
        "tables = soup.find_all(\"div\", {\"class\": \"col-sm-12 col-md-6 col-lg-4\"})"
      ],
      "metadata": {
        "id": "sPH-itQFV87o"
      },
      "execution_count": 6,
      "outputs": []
    },
    {
      "cell_type": "code",
      "source": [
        "while cars_no < 60:\n",
        "    for table in tables:\n",
        "\n",
        "        url = 'https://www.cars24.com/buy-used-car?f=make%3A%3D%3Ahonda&sort=bestmatch&serveWarrantyCount=true&listingSource=Homepage_Filters&storeCityId=2378'\n",
        "        page = requests.get(url)\n",
        "        soup = BeautifulSoup(page.text, 'html.parser')\n",
        "\n",
        "        name      = table.find('h3', {'class': '_1Nvyc _1Corb'}).text\n",
        "        model_date = table.find('li', {'itemprop': 'modelDate'}).text\n",
        "        model_date = int(model_date)\n",
        "        engine_1 = table.find('li', {'itemprop': 'vehicleEngine'}).text\n",
        "        engine = (re.split('•', engine_1))\n",
        "        engine = ''.join(engine)\n",
        "\n",
        "        price_1 = table.find('div', {'class': 'col-5 col-md-12 col-xl-5'}).text\n",
        "        price_2 = (re.split('₹|,|', price_1))\n",
        "        price = ''.join(price_2)\n",
        "        price = float(price)\n",
        "\n",
        "        location = table.find('a', {'class': '_1Kids'}).text\n",
        "\n",
        "        viwe_1 = table.find('a', {'class': '_3dFtM'}).text\n",
        "        viwe_2 = (re.split('K Views|Views|', viwe_1))\n",
        "        viwe_3 = ''.join(viwe_2)\n",
        "        viwe_3 = float(viwe_3)\n",
        "        viwe = (viwe_3) * 100\n",
        "\n",
        "        link = 'https://www.cars24.com/' + table.find('a', {'class': 'qD5mC'}).get('href')\n",
        "\n",
        "        car_1 = requests.get(link)\n",
        "        car = car_1.text\n",
        "        car_soup = BeautifulSoup(car, 'html.parser')\n",
        "\n",
        "        emi_1 = car_soup.find('span', {'class': '_3N4Rp'})\n",
        "        emi_2 = emi_1.text if emi_1 else \"N/A\"\n",
        "        emi_3 = (re.split('EMI starts @|,|', emi_2))\n",
        "        emi_4 = ''.join(emi_3)\n",
        "        if emi_4 != \"N/A\":\n",
        "            emi = float(emi_4)\n",
        "        else:\n",
        "            emi = 'null'\n",
        "\n",
        "        overviews = car_soup.find('ul', {\"class\": \"_1wIhE\"})\n",
        "        for overview in overviews:\n",
        "            detail = overview.text\n",
        "            if detail[0] == 'C':\n",
        "                car_id = (detail[6:-1] + detail[-1])\n",
        "            elif detail[0] == 'K':\n",
        "                km_driven = (detail[10:-1] + detail[-1])\n",
        "            elif detail[0] == 'F':\n",
        "                fuel_type = (detail[9:-1] + detail[-1])\n",
        "            elif detail[0] == 'O':\n",
        "                owner = (detail[5:-1] + detail[-1])\n",
        "            elif detail[0] == 'T':\n",
        "                transmission = (detail[12:-1] + detail[-1])\n",
        "            elif detail[0] == 'R':\n",
        "                rot = (detail[3:-1] + detail[-1])\n",
        "\n",
        "        cars_no = cars_no + 1\n",
        "        Cars_dict[cars_no] = [name, model_date, engine, location, viwe, price, link, emi, car_id, km_driven, fuel_type, owner,\n",
        "                              transmission, rot]\n",
        "\n",
        "        no_page =  no_page + 1\n",
        "        no_page =  str(no_page)\n",
        "        url     = 'https://www.cars24.com/buy-used-car?f=make%3A%3D%3Ahonda&sort=bestmatch&serveWarrantyCount=true&listingSource=Homepage_Filters&storeCityId=2378' + '?page=' + no_page\n",
        "        no_page =  int(no_page)\n"
      ],
      "metadata": {
        "id": "J2NqOZ0OV94m"
      },
      "execution_count": null,
      "outputs": []
    },
    {
      "cell_type": "code",
      "source": [],
      "metadata": {
        "id": "TLRxGIWiWsv6"
      },
      "execution_count": null,
      "outputs": []
    }
  ]
}