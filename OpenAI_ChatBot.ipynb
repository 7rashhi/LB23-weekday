{
  "cells": [
    {
      "cell_type": "markdown",
      "metadata": {
        "id": "view-in-github",
        "colab_type": "text"
      },
      "source": [
        "<a href=\"https://colab.research.google.com/github/7rashhi/LB23-weekday/blob/main/OpenAI_ChatBot.ipynb\" target=\"_parent\"><img src=\"https://colab.research.google.com/assets/colab-badge.svg\" alt=\"Open In Colab\"/></a>"
      ]
    },
    {
      "cell_type": "markdown",
      "id": "7a54fd8a-faf0-4a3a-bc28-b7747f5dcba4",
      "metadata": {
        "id": "7a54fd8a-faf0-4a3a-bc28-b7747f5dcba4"
      },
      "source": [
        "# Building OpenAI ChatBot"
      ]
    },
    {
      "cell_type": "code",
      "execution_count": null,
      "id": "a24cb2eb-e549-4e6e-93d9-8043cb52a397",
      "metadata": {
        "id": "a24cb2eb-e549-4e6e-93d9-8043cb52a397"
      },
      "outputs": [],
      "source": [
        "#!pip install openai\n",
        "# !pip install openai==0.28"
      ]
    },
    {
      "cell_type": "code",
      "execution_count": null,
      "id": "f317ac9b-83ce-4a76-8505-6c48d0a1eddf",
      "metadata": {
        "id": "f317ac9b-83ce-4a76-8505-6c48d0a1eddf"
      },
      "outputs": [],
      "source": [
        "from openai import OpenAI"
      ]
    },
    {
      "cell_type": "markdown",
      "id": "245c1de0-2b44-45b3-ace4-19d2b66c8a7e",
      "metadata": {
        "id": "245c1de0-2b44-45b3-ace4-19d2b66c8a7e"
      },
      "source": [
        "## Setting the API Key"
      ]
    },
    {
      "cell_type": "markdown",
      "id": "e13d0610-46af-47b8-95fd-28c2d469fef8",
      "metadata": {
        "id": "e13d0610-46af-47b8-95fd-28c2d469fef8"
      },
      "source": [
        "**Step 1**\n",
        "Create an OpenAI Account and confirm if you have credits to use the API. If you are running out of credits, you must use credit card and pay as you go.\n",
        "\n",
        "![image.png](attachment:9496e3ff-cb5e-4670-8966-3342ca47e693.png)\n",
        "\n",
        "![image.png](attachment:80854120-0681-49e0-a83f-ade536152f8f.png)\n",
        "\n",
        "**Setp 2**\n",
        "Create an API Key\n",
        "\n",
        "![image.png](attachment:303797a3-225e-4d0f-a646-91249216c164.png)"
      ]
    },
    {
      "cell_type": "code",
      "execution_count": null,
      "id": "d12a2c08-a6a6-4366-85e6-f32c48cbea0e",
      "metadata": {
        "id": "d12a2c08-a6a6-4366-85e6-f32c48cbea0e"
      },
      "outputs": [],
      "source": [
        "# Way 1 - very bad way of setting the key. It exposes the key and anyone can steal it.\n",
        "OPEN_API_KEY = \"You_can_write_your_api_key_here\"\n",
        "client = OpenAI(api_key=OPEN_API_KEY)"
      ]
    },
    {
      "cell_type": "code",
      "execution_count": null,
      "id": "315c2566-4f17-4dac-86bd-4f6e04618b0a",
      "metadata": {
        "id": "315c2566-4f17-4dac-86bd-4f6e04618b0a",
        "outputId": "5f9d16fa-94ec-47cc-ac65-9a217adff869"
      },
      "outputs": [
        {
          "data": {
            "text/plain": [
              "'C:\\\\Users\\\\KUMAR SUNDRAM\\\\OneDrive\\\\Desktop\\\\ChatGPT'"
            ]
          },
          "execution_count": 13,
          "metadata": {},
          "output_type": "execute_result"
        }
      ],
      "source": [
        "import os\n",
        "os.getcwd()"
      ]
    },
    {
      "cell_type": "code",
      "execution_count": null,
      "id": "f88d44d2-0d97-41aa-abe3-b3a1476042a3",
      "metadata": {
        "id": "f88d44d2-0d97-41aa-abe3-b3a1476042a3"
      },
      "outputs": [],
      "source": [
        "# Way 2 - This is a good way to execute your api key for building chat bot\n",
        "f = open('keys/.openai_api_key.txt')\n",
        "OPENAI_API_KEY = f.read()\n",
        "client = OpenAI(api_key=OPENAI_API_KEY)"
      ]
    },
    {
      "cell_type": "code",
      "execution_count": null,
      "id": "7499354f-bb05-4b17-9476-9ad94278139c",
      "metadata": {
        "id": "7499354f-bb05-4b17-9476-9ad94278139c"
      },
      "outputs": [],
      "source": [
        "# Way 3\n",
        "## using python-dotenv\n",
        "# !pip install python-dotenv\n",
        "# from dotenv import dotenv_values\n",
        "# config = dotenv_values(\"keys/.env\")\n",
        "# client = OpenAI(api_key=config[\"OPENAI_API_KEY\"]"
      ]
    },
    {
      "cell_type": "code",
      "execution_count": null,
      "id": "749d730c-8147-430b-b28b-6c8973085d42",
      "metadata": {
        "id": "749d730c-8147-430b-b28b-6c8973085d42",
        "outputId": "6e8e9f50-a638-4442-d245-e4ad4e50405f"
      },
      "outputs": [
        {
          "data": {
            "text/plain": [
              "SyncPage[Model](data=[Model(id='gpt-4-turbo', created=1712361441, object='model', owned_by='system'), Model(id='gpt-4-turbo-2024-04-09', created=1712601677, object='model', owned_by='system'), Model(id='tts-1', created=1681940951, object='model', owned_by='openai-internal'), Model(id='tts-1-1106', created=1699053241, object='model', owned_by='system'), Model(id='chatgpt-4o-latest', created=1723515131, object='model', owned_by='system'), Model(id='dall-e-2', created=1698798177, object='model', owned_by='system'), Model(id='whisper-1', created=1677532384, object='model', owned_by='openai-internal'), Model(id='gpt-4-turbo-preview', created=1706037777, object='model', owned_by='system'), Model(id='gpt-3.5-turbo-instruct', created=1692901427, object='model', owned_by='system'), Model(id='gpt-4-0125-preview', created=1706037612, object='model', owned_by='system'), Model(id='gpt-3.5-turbo', created=1677610602, object='model', owned_by='openai'), Model(id='gpt-3.5-turbo-0125', created=1706048358, object='model', owned_by='system'), Model(id='babbage-002', created=1692634615, object='model', owned_by='system'), Model(id='davinci-002', created=1692634301, object='model', owned_by='system'), Model(id='gpt-4o-2024-08-06', created=1722814719, object='model', owned_by='system'), Model(id='gpt-4o', created=1715367049, object='model', owned_by='system'), Model(id='dall-e-3', created=1698785189, object='model', owned_by='system'), Model(id='gpt-4o-realtime-preview-2024-10-01', created=1727131766, object='model', owned_by='system'), Model(id='gpt-4o-realtime-preview', created=1727659998, object='model', owned_by='system'), Model(id='gpt-4o-mini', created=1721172741, object='model', owned_by='system'), Model(id='gpt-4o-2024-05-13', created=1715368132, object='model', owned_by='system'), Model(id='gpt-4o-audio-preview-2024-10-01', created=1727389042, object='model', owned_by='system'), Model(id='gpt-4o-audio-preview', created=1727460443, object='model', owned_by='system'), Model(id='tts-1-hd', created=1699046015, object='model', owned_by='system'), Model(id='tts-1-hd-1106', created=1699053533, object='model', owned_by='system'), Model(id='gpt-4-1106-preview', created=1698957206, object='model', owned_by='system'), Model(id='text-embedding-ada-002', created=1671217299, object='model', owned_by='openai-internal'), Model(id='gpt-3.5-turbo-16k', created=1683758102, object='model', owned_by='openai-internal'), Model(id='text-embedding-3-small', created=1705948997, object='model', owned_by='system'), Model(id='text-embedding-3-large', created=1705953180, object='model', owned_by='system'), Model(id='gpt-4o-mini-2024-07-18', created=1721172717, object='model', owned_by='system'), Model(id='gpt-3.5-turbo-1106', created=1698959748, object='model', owned_by='system'), Model(id='gpt-4-0613', created=1686588896, object='model', owned_by='openai'), Model(id='gpt-4', created=1687882411, object='model', owned_by='openai'), Model(id='gpt-3.5-turbo-instruct-0914', created=1694122472, object='model', owned_by='system')], object='list')"
            ]
          },
          "execution_count": 15,
          "metadata": {},
          "output_type": "execute_result"
        }
      ],
      "source": [
        "client.models.list()"
      ]
    },
    {
      "cell_type": "code",
      "execution_count": null,
      "id": "39860651-f4f6-4de2-bfd4-8e3f40911ce3",
      "metadata": {
        "id": "39860651-f4f6-4de2-bfd4-8e3f40911ce3"
      },
      "outputs": [],
      "source": [
        "response = client.chat.completions.create(model = \"gpt-3.5-turbo\",\n",
        "                messages=[{\"role\":\"user\",\n",
        "                \"content\":\"Generate 5 Data Science questions and answers for MCQ test.\"}\n",
        "                                         ])"
      ]
    },
    {
      "cell_type": "code",
      "execution_count": null,
      "id": "68aaa1bb-10e6-4e5c-a210-1f3455f5b129",
      "metadata": {
        "id": "68aaa1bb-10e6-4e5c-a210-1f3455f5b129",
        "outputId": "53e2ac29-9a3d-4ade-902f-54863f9ce781"
      },
      "outputs": [
        {
          "data": {
            "text/plain": [
              "ChatCompletion(id='chatcmpl-ALihex32zTjFZBzFLBGedlF3uRCLa', choices=[Choice(finish_reason='stop', index=0, logprobs=None, message=ChatCompletionMessage(content='1. What is the purpose of data preprocessing in the data science process?\\nA) To remove noise and inconsistencies in the data\\nB) To predict future trends in data\\nC) To visualize data for analysis\\nD) To create machine learning models\\n\\nAnswer: A) To remove noise and inconsistencies in the data\\n\\n2. Which of the following algorithms is commonly used for clustering in data science?\\nA) Linear regression\\nB) Random forest\\nC) k-means\\nD) Neural networks\\n\\nAnswer: C) k-means\\n\\n3. What is the goal of dimensionality reduction in data science?\\nA) To increase the size of the dataset\\nB) To simplify the dataset by reducing the number of features\\nC) To make the dataset more complex\\nD) To speed up the data analysis process\\n\\nAnswer: B) To simplify the dataset by reducing the number of features\\n\\n4. What is the main difference between supervised and unsupervised learning in machine learning?\\nA) Supervised learning requires labeled data, while unsupervised learning does not\\nB) Supervised learning does not require a training phase, while unsupervised learning does\\nC) Unsupervised learning is more accurate than supervised learning\\nD) Supervised learning does not use algorithms, while unsupervised learning does\\n\\nAnswer: A) Supervised learning requires labeled data, while unsupervised learning does not\\n\\n5. What is the purpose of cross-validation in machine learning?\\nA) To compare the performance of different machine learning algorithms\\nB) To evaluate the performance of a machine learning model on unseen data\\nC) To visualize the relationship between different features in the data\\nD) To preprocess the data before training a model\\n\\nAnswer: B) To evaluate the performance of a machine learning model on unseen data', refusal=None, role='assistant', function_call=None, tool_calls=None))], created=1729740090, model='gpt-3.5-turbo-0125', object='chat.completion', service_tier=None, system_fingerprint=None, usage=CompletionUsage(completion_tokens=363, prompt_tokens=20, total_tokens=383, completion_tokens_details=CompletionTokensDetails(audio_tokens=None, reasoning_tokens=0), prompt_tokens_details=PromptTokensDetails(audio_tokens=None, cached_tokens=0)))"
            ]
          },
          "execution_count": 19,
          "metadata": {},
          "output_type": "execute_result"
        }
      ],
      "source": [
        "response"
      ]
    },
    {
      "cell_type": "code",
      "execution_count": null,
      "id": "56861444-fba0-4b84-bd6b-3a44d4cae548",
      "metadata": {
        "id": "56861444-fba0-4b84-bd6b-3a44d4cae548",
        "outputId": "f9d41adf-d71f-4dde-e3e9-a3c8951c8df7"
      },
      "outputs": [
        {
          "name": "stdout",
          "output_type": "stream",
          "text": [
            "1. What is the purpose of data preprocessing in the data science process?\n",
            "A) To remove noise and inconsistencies in the data\n",
            "B) To predict future trends in data\n",
            "C) To visualize data for analysis\n",
            "D) To create machine learning models\n",
            "\n",
            "Answer: A) To remove noise and inconsistencies in the data\n",
            "\n",
            "2. Which of the following algorithms is commonly used for clustering in data science?\n",
            "A) Linear regression\n",
            "B) Random forest\n",
            "C) k-means\n",
            "D) Neural networks\n",
            "\n",
            "Answer: C) k-means\n",
            "\n",
            "3. What is the goal of dimensionality reduction in data science?\n",
            "A) To increase the size of the dataset\n",
            "B) To simplify the dataset by reducing the number of features\n",
            "C) To make the dataset more complex\n",
            "D) To speed up the data analysis process\n",
            "\n",
            "Answer: B) To simplify the dataset by reducing the number of features\n",
            "\n",
            "4. What is the main difference between supervised and unsupervised learning in machine learning?\n",
            "A) Supervised learning requires labeled data, while unsupervised learning does not\n",
            "B) Supervised learning does not require a training phase, while unsupervised learning does\n",
            "C) Unsupervised learning is more accurate than supervised learning\n",
            "D) Supervised learning does not use algorithms, while unsupervised learning does\n",
            "\n",
            "Answer: A) Supervised learning requires labeled data, while unsupervised learning does not\n",
            "\n",
            "5. What is the purpose of cross-validation in machine learning?\n",
            "A) To compare the performance of different machine learning algorithms\n",
            "B) To evaluate the performance of a machine learning model on unseen data\n",
            "C) To visualize the relationship between different features in the data\n",
            "D) To preprocess the data before training a model\n",
            "\n",
            "Answer: B) To evaluate the performance of a machine learning model on unseen data\n"
          ]
        }
      ],
      "source": [
        "print(response.choices[0].message.content)"
      ]
    },
    {
      "cell_type": "code",
      "execution_count": null,
      "id": "eea2d6a4-353c-41d4-92df-12335438c33a",
      "metadata": {
        "id": "eea2d6a4-353c-41d4-92df-12335438c33a",
        "outputId": "f40776e2-bcf5-431f-9906-750f7dfc59ee"
      },
      "outputs": [
        {
          "name": "stdout",
          "output_type": "stream",
          "text": [
            "Why don't scientists trust atoms? \n",
            "\n",
            "Because they make up everything!\n"
          ]
        }
      ],
      "source": [
        "response = client.chat.completions.create(model = \"gpt-3.5-turbo\",\n",
        "                messages=[{\"role\":\"user\",\n",
        "                \"content\":\"tell me a joke.\"}\n",
        "                                         ])\n",
        "\n",
        "print(response.choices[0].message.content)"
      ]
    },
    {
      "cell_type": "code",
      "execution_count": null,
      "id": "599dcd49-4247-40dd-840a-245f11368ec3",
      "metadata": {
        "id": "599dcd49-4247-40dd-840a-245f11368ec3"
      },
      "outputs": [],
      "source": [
        "model = \"gpt-3.5-turbo\"\n",
        "messages=[{\"role\":\"user\",\"content\":\"Write a blog post on Decision Tree\"}]"
      ]
    },
    {
      "cell_type": "code",
      "execution_count": null,
      "id": "48c2506e-15a5-481f-96df-832f734c9956",
      "metadata": {
        "id": "48c2506e-15a5-481f-96df-832f734c9956",
        "outputId": "d5256e27-814e-41cd-9295-1be1d645b4ca"
      },
      "outputs": [
        {
          "name": "stdout",
          "output_type": "stream",
          "text": [
            "Decision trees are a popular and powerful tool in the field of machine learning and data analysis. They are a simple yet effective way to classify and predict outcomes based on a set of input variables. Decision trees are easy to understand and interpret, making them a valuable tool for both novice and experienced data analysts.\n",
            "\n",
            "Decision trees work by splitting the data into smaller subsets based on different attributes or features. The goal is to create a tree-like structure where each internal node represents a decision based on a certain feature, and each leaf node represents the outcome or classification.\n",
            "\n",
            "One of the key advantages of decision trees is their ability to handle both categorical and numerical data. They can handle missing values and outliers, and are robust to noise in the data. Decision trees are also non-parametric, meaning they do not make any assumptions about the distribution of the data.\n",
            "\n",
            "There are several popular algorithms for building decision trees, including ID3, C4.5, and CART. These algorithms use different criteria, such as information gain or Gini impurity, to determine the best splits at each node.\n",
            "\n",
            "Once a decision tree is built, it can be used to make predictions on new data by traversing the tree from the root to a leaf node based on the input features. The final outcome at the leaf node is the predicted class or value.\n",
            "\n",
            "Decision trees have many practical applications in various industries, including finance, healthcare, marketing, and more. They can be used for customer segmentation, risk assessment, fraud detection, and many other tasks.\n",
            "\n",
            "While decision trees are powerful and versatile, they do have limitations. They are prone to overfitting, meaning they may perform well on the training data but poorly on unseen data. This can be mitigated through techniques like pruning, ensemble methods like random forests, or using other machine learning algorithms.\n",
            "\n",
            "In conclusion, decision trees are a valuable tool for both beginners and experts in the field of machine learning and data analysis. They are intuitive, easy to interpret, and can handle both categorical and numerical data. Decision trees have a wide range of applications and can be a powerful tool for making predictions and solving real-world problems.\n"
          ]
        }
      ],
      "source": [
        "response = client.chat.completions.create(model = \"gpt-3.5-turbo\",messages=messages)\n",
        "print(response.choices[0].message.content)"
      ]
    },
    {
      "cell_type": "code",
      "execution_count": null,
      "id": "ecd79bc0-bd68-40d5-8664-b2e34f5df779",
      "metadata": {
        "id": "ecd79bc0-bd68-40d5-8664-b2e34f5df779",
        "outputId": "0d7ef9a0-3d31-4233-adb0-b358c09f07d1"
      },
      "outputs": [
        {
          "name": "stdout",
          "output_type": "stream",
          "text": [
            "Sure, here's a joke for you:\n",
            "\n",
            "Why couldn't the bicycle stand up by itself?\n",
            "\n",
            "Because it was two tired!\n",
            "\n",
            "Now, moving on to the blog post on Decision Trees:\n",
            "\n",
            "Decision Trees are a popular machine learning algorithm used for both classification and regression tasks. They work by recursively partitioning the input space into regions based on a set of rules, with each region corresponding to a particular class or value. The algorithm learns these rules from the training data by finding the most informative features to split on at each node.\n",
            "\n",
            "One of the main advantages of Decision Trees is their interpretability, as the resulting tree structure can be easily visualized and understood. They are also versatile and can handle both numerical and categorical data, as well as missing values. However, they can be prone to overfitting if not properly regularized.\n",
            "\n",
            "Now, let's talk about K-Nearest Neighbors (KNN):\n",
            "\n",
            "K-Nearest Neighbors is another popular machine learning algorithm used for classification and regression tasks. It works by finding the K closest data points in the training set to a given test point and using their labels or values to make predictions. The value of K is a hyperparameter that can be tuned to balance bias and variance in the model.\n",
            "\n",
            "One of the key advantages of KNN is its simplicity and ease of implementation. It does not require a complex training phase, as it simply stores the training data and uses it for prediction at runtime. However, it can be computationally expensive in high-dimensional spaces and may struggle with imbalanced datasets.\n",
            "\n",
            "Finally, the answer to 2 + 2 is 4.\n"
          ]
        }
      ],
      "source": [
        "response = client.chat.completions.create(model = \"gpt-3.5-turbo\",\n",
        "                messages=[{\"role\":\"user\",\n",
        "                \"content\":\"tell me a joke. Write a blog post on Decision Tree. Tell me about KNN. What is 2+2?\"}\n",
        "                                         ])\n",
        "\n",
        "print(response.choices[0].message.content)"
      ]
    },
    {
      "cell_type": "code",
      "execution_count": null,
      "id": "94b6b552-e8c9-4f94-bde9-6e47fb57a03f",
      "metadata": {
        "id": "94b6b552-e8c9-4f94-bde9-6e47fb57a03f",
        "outputId": "bb8a1ce7-f47e-4475-df72-b2b283cc3f26"
      },
      "outputs": [
        {
          "name": "stdout",
          "output_type": "stream",
          "text": [
            "I am an AI assistant and cannot predict the future. As of now, the 2023 cricket world cup has not taken place yet so I cannot tell you who the winner is.\n"
          ]
        }
      ],
      "source": [
        "response = client.chat.completions.create(model = \"gpt-3.5-turbo\",\n",
        "                messages=[{\"role\":\"user\",\n",
        "                \"content\":\"Who won the 2023 cricket worldcup?\"}\n",
        "                                         ])\n",
        "\n",
        "print(response.choices[0].message.content)"
      ]
    },
    {
      "cell_type": "code",
      "execution_count": null,
      "id": "6e3e1f32-b6aa-46c4-8812-8f13bd87ac38",
      "metadata": {
        "id": "6e3e1f32-b6aa-46c4-8812-8f13bd87ac38",
        "outputId": "cde9d5e5-d0f0-4eb1-9839-8ac06a2628bb"
      },
      "outputs": [
        {
          "name": "stdout",
          "output_type": "stream",
          "text": [
            "As of my last update in October 2023, the 2023 ICC Cricket World Cup had not yet concluded, and I do not have the final results. Please check the latest news or official cricket sources for the most up-to-date information on the tournament's winner.\n"
          ]
        }
      ],
      "source": [
        "response = client.chat.completions.create(model = \"gpt-4o-mini\",\n",
        "                messages=[{\"role\":\"user\",\n",
        "                \"content\":\"Who won the 2023 cricket worldcup?\"}\n",
        "                                         ])\n",
        "print(response.choices[0].message.content)"
      ]
    },
    {
      "cell_type": "code",
      "execution_count": null,
      "id": "ee1c0c8f-e0ac-4eb3-a6ef-45dd05db1302",
      "metadata": {
        "id": "ee1c0c8f-e0ac-4eb3-a6ef-45dd05db1302"
      },
      "outputs": [],
      "source": [
        "# another example\n",
        "prompt = \"Write a blog post on Logistic Regression for beginner level audiance who are starting their career in Data Science. Limit the blog post to 500 words\""
      ]
    },
    {
      "cell_type": "code",
      "execution_count": null,
      "id": "24357a65-f020-49a9-9e10-d7917719d160",
      "metadata": {
        "id": "24357a65-f020-49a9-9e10-d7917719d160",
        "outputId": "625deb93-cd40-4951-9c7d-646e968da4cd"
      },
      "outputs": [
        {
          "data": {
            "text/plain": [
              "'Write a blog post on Logistic Regression for beginner level audiance who are starting their career in Data Science. Limit the blog post to 500 words'"
            ]
          },
          "execution_count": 49,
          "metadata": {},
          "output_type": "execute_result"
        }
      ],
      "source": [
        "prompt"
      ]
    },
    {
      "cell_type": "code",
      "execution_count": null,
      "id": "e58a6a3f-f8a4-4d11-9b87-9628eb0a389a",
      "metadata": {
        "id": "e58a6a3f-f8a4-4d11-9b87-9628eb0a389a",
        "outputId": "d720b580-050c-4cbb-f1c4-3d3895952af8"
      },
      "outputs": [
        {
          "name": "stdout",
          "output_type": "stream",
          "text": [
            "**Understanding Logistic Regression: A Beginner’s Guide to Data Science**\n",
            "\n",
            "Welcome to the fascinating world of data science! If you’re just starting your journey, you might have heard of a powerful algorithm called Logistic Regression. Despite its name, logistic regression is not just for regression tasks; it’s primarily used for classification problems. In this blog post, we’ll break down the essence of logistic regression and clarify why it’s a crucial tool in a data scientist’s toolkit.\n",
            "\n",
            "### What is Logistic Regression?\n",
            "\n",
            "Logistic regression is a statistical method used to predict the probability of a binary outcome — that is, situations where there are only two possible outcomes. For example, let’s say you want to predict whether a customer will buy a product (yes or no), whether an email is spam (spam or not spam), or whether a patient has a particular disease (disease or no disease). Here, logistic regression can be incredibly useful!\n",
            "\n",
            "### How Does Logistic Regression Work?\n",
            "\n",
            "At its core, logistic regression models the relationship between a dependent binary variable and one or more independent variables (features). The equation for logistic regression builds upon a linear model but uses a special function called the **logistic function** (also known as the sigmoid function) to output probabilities.\n",
            "\n",
            "The logistic function transforms any real-valued number into a value between 0 and 1. The formula can be expressed as:\n",
            "\n",
            "\\[ P(Y = 1 | X) = \\frac{1}{1 + e^{-z}} \\]\n",
            "\n",
            "Where:\n",
            "- \\( P(Y = 1 | X) \\): Probability that event Y occurs given input X.\n",
            "- \\( z \\): Linear combination of the inputs, represented as \\( z = b_0 + b_1X_1 + b_2X_2 + ... + b_nX_n \\).\n",
            "- \\( e \\): Base of the natural logarithm, approximately equal to 2.71828.\n",
            "\n",
            "### What Happens After the Probabilities Are Calculated?\n",
            "\n",
            "Once logistic regression calculates the probabilities, you need to decide on a threshold to classify outputs. A common threshold is 0.5: if the predicted probability for a positive class exceeds 0.5, you classify it as positive (1); otherwise, it's classified as negative (0). This threshold can be adjusted based on the specific requirements of your problem, like maximizing true positives or minimizing false negatives.\n",
            "\n",
            "### Why Choose Logistic Regression?\n",
            "\n",
            "1. **Simplicity**: Logistic regression is relatively easy to understand and implement. You don’t need complex coding or extensive mathematical knowledge to get started.\n",
            "\n",
            "2. **Interpretability**: The coefficients obtained from the model can give insights into how much each feature influences the outcome. This makes it a transparent model, which is essential in various fields, especially in healthcare and finance.\n",
            "\n",
            "3. **Efficiency**: Logistic regression models are computationally efficient and can handle large datasets promptly. It’s less prone to overfitting, especially when you have fewer features compared to more complex models.\n",
            "\n",
            "### Limitations of Logistic Regression\n",
            "\n",
            "While logistic regression has many advantages, it also has its limitations. It assumes a linear relationship between the independent variables and the log-odds of the dependent variable. In cases where this assumption doesn’t hold, more complex models like decision trees or neural networks may be more effective.\n",
            "\n",
            "### Conclusion\n",
            "\n",
            "Logistic regression is a foundational algorithm in data science that helps you step into the world of machine learning. By understanding the principles behind logistic regression, you'll be better equipped to tackle classification problems in your data science career. As you continue your journey, don’t hesitate to explore more algorithms and techniques, but always keep logistic regression in your toolbox for its simplicity and interpretability. Happy coding!\n"
          ]
        }
      ],
      "source": [
        "response = client.chat.completions.create(model = \"gpt-4o-mini\",\n",
        "                messages=[{\"role\":\"user\",\n",
        "                \"content\":prompt}\n",
        "                                         ])\n",
        "print(response.choices[0].message.content)"
      ]
    },
    {
      "cell_type": "code",
      "execution_count": null,
      "id": "f8ecbead-0e7b-4252-bbdd-c7a235c4f1e8",
      "metadata": {
        "id": "f8ecbead-0e7b-4252-bbdd-c7a235c4f1e8",
        "outputId": "887e7c52-859d-49f7-ce72-afa599cc32b8"
      },
      "outputs": [
        {
          "name": "stdout",
          "output_type": "stream",
          "text": [
            "1. Introduction to Data Science\n",
            "2. Data Cleaning and Preprocessing\n",
            "3. Exploratory Data Analysis\n",
            "4. Statistical Analysis\n",
            "5. Machine Learning\n",
            "6. Deep Learning\n",
            "7. Natural Language Processing\n",
            "8. Big Data Technologies\n",
            "9. Data Visualization\n",
            "10. Data Science Ethics and Privacy concerns\n",
            "11. Time Series Analysis\n",
            "12. Predictive Modeling\n",
            "13. Experimental Design and A/B Testing\n",
            "14. Web Scraping and Data Collection\n",
            "15. Database Management\n",
            "16. Dimensionality Reduction\n",
            "17. Feature Engineering\n",
            "18. Model Deployment and Productionization.\n"
          ]
        }
      ],
      "source": [
        "prompt = \"Give me a numbered list of all the modules one should study in Data Science?\"\n",
        "response = client.chat.completions.create(model = \"gpt-3.5-turbo\",\n",
        "                messages=[{\"role\":\"user\", \"content\":prompt} ], max_tokens=500)\n",
        "\n",
        "print(response.choices[0].message.content)"
      ]
    },
    {
      "cell_type": "code",
      "execution_count": null,
      "id": "ea2a00ee-35b9-4dc5-bfff-750b72fee350",
      "metadata": {
        "id": "ea2a00ee-35b9-4dc5-bfff-750b72fee350",
        "outputId": "6fd2ee85-dec5-4274-d8e9-99a7104edee0"
      },
      "outputs": [
        {
          "name": "stdout",
          "output_type": "stream",
          "text": [
            "1. Data Collection and Storage\n",
            "2. Data Cleaning and Preprocessing\n",
            "3. Exploratory Data Analysis\n",
            "4. Data Visualization\n",
            "5. Statistical Analysis\n",
            "6. Machine Learning\n",
            "7. Deep Learning\n",
            "8. Natural Language Processing\n",
            "9. Big Data Technologies\n",
            "\n"
          ]
        }
      ],
      "source": [
        "prompt = \"Give me a numbered list of all the modules one should study in Data Science?\"\n",
        "response = client.chat.completions.create(model = \"gpt-3.5-turbo\",\n",
        "                messages=[{\"role\":\"user\", \"content\":prompt} ], max_tokens=500, stop=\"10\")\n",
        "\n",
        "print(response.choices[0].message.content)"
      ]
    },
    {
      "cell_type": "code",
      "execution_count": null,
      "id": "338973b7-64e2-4883-b9a5-14d11413b85c",
      "metadata": {
        "id": "338973b7-64e2-4883-b9a5-14d11413b85c",
        "outputId": "9b2aedfb-3111-486f-c3a3-06970307da4b"
      },
      "outputs": [
        {
          "name": "stdout",
          "output_type": "stream",
          "text": [
            "KNN, or k-Nearest Neighbors, is a non-parametric and instance-based algorithm used for classification and regression tasks in machine learning. It is a simple and intuitive algorithm that works by storing all available cases and classifying new cases based on a similarity measure (e.g., distance function) to their neighbors.\n",
            "\n",
            "In KNN, the value of k represents the number of nearest neighbors to consider when making predictions. The algorithm calculates the distance between the input data point and all other data points in the dataset, and then selects the k-nearest neighbors to the input data point based on this distance metric. \n",
            "\n",
            "For classification tasks, the majority class among the k-nearest neighbors is assigned to the input data point. For regression tasks, the algorithm averages the value of the k-nearest neighbors to predict the target variable.\n",
            "\n",
            "KNN is easy to implement and understand, but it can be computationally expensive, especially with large datasets. Additionally, KNN may not perform well in high-dimensional spaces or when the data is imbalanced. However, it is a versatile algorithm that can be used for a wide range of applications, such as image recognition, recommendation systems, and anomaly detection.\n"
          ]
        }
      ],
      "source": [
        "prompt = \"Tell me about KNN.\"\n",
        "response = client.chat.completions.create(model = \"gpt-3.5-turbo\",\n",
        "                messages=[{\"role\":\"user\", \"content\":prompt} ], max_tokens=500, temperature=0.9)\n",
        "\n",
        "print(response.choices[0].message.content)"
      ]
    },
    {
      "cell_type": "code",
      "execution_count": null,
      "id": "d4f976a2-63d0-4f41-8a42-289d7e8e7b41",
      "metadata": {
        "id": "d4f976a2-63d0-4f41-8a42-289d7e8e7b41",
        "outputId": "9ffb2636-b0e6-4d2e-d85e-1415bb174914"
      },
      "outputs": [
        {
          "name": "stdout",
          "output_type": "stream",
          "text": [
            "K-Nearest Neighbors (KNN) is a simple and popular machine learning algorithm used for classification and regression tasks. In KNN, the class of an unlabelled data point is determined by the most common class among its k nearest neighbors in the training dataset. \n",
            "\n",
            "The algorithm works by calculating the distance between the unlabelled data point and all other data points in the training set, and then selecting the k closest data points. The class of the unlabelled data point is then determined by a majority vote of the classes of its k nearest neighbors.\n",
            "\n",
            "KNN is a non-parametric algorithm, meaning it does not make any assumptions about the underlying distribution of the data. It is also known as a lazy learning algorithm, as it does not learn a model from the training data but simply stores all of the training instances.\n",
            "\n",
            "KNN is a simple and easy-to-understand algorithm, but it can be computationally expensive for large datasets, as it requires calculating distances between all data points in the training set for each prediction. Additionally, the choice of the value of k can have a significant impact on the performance of the algorithm, and it may require tuning through cross-validation.\n",
            "\n",
            "Overall, KNN is a versatile algorithm that can be used for both classification and regression tasks, and it is often used as a baseline model for comparison with more complex algorithms.\n"
          ]
        }
      ],
      "source": [
        "prompt = \"Tell me about KNN.\"\n",
        "response = client.chat.completions.create(model = \"gpt-3.5-turbo\",\n",
        "                messages=[{\"role\":\"user\", \"content\":prompt} ], max_tokens=500, temperature=0.9)\n",
        "\n",
        "print(response.choices[0].message.content)"
      ]
    },
    {
      "cell_type": "code",
      "execution_count": null,
      "id": "1ec1d2be-339f-4a44-a5fd-2ab62335ebf6",
      "metadata": {
        "id": "1ec1d2be-339f-4a44-a5fd-2ab62335ebf6",
        "outputId": "c155dfa7-c5bb-4ecf-d604-54d4e0d067e6"
      },
      "outputs": [
        {
          "name": "stdout",
          "output_type": "stream",
          "text": [
            "K-Nearest Neighbors (KNN) is a simple and popular machine learning algorithm used for classification and regression tasks. It is a type of instance-based learning, where the algorithm memorizes the training dataset and makes predictions based on the similarity of new data points to existing data points.\n",
            "\n",
            "In KNN, the \"K\" represents the number of nearest neighbors that are considered when making a prediction. To classify a new data point, the algorithm calculates the distance between the new point and all points in the training dataset. It then selects the K nearest neighbors and assigns the majority class label among them to the new data point.\n",
            "\n",
            "KNN is a non-parametric algorithm, meaning it does not make any assumptions about the underlying data distribution. It is also a lazy learning algorithm, as it does not build a model during training but instead stores all training instances and uses them for prediction.\n",
            "\n",
            "One of the main advantages of KNN is its simplicity and ease of implementation. However, it can be computationally expensive and slow when dealing with large datasets, as it requires calculating distances between all data points. Additionally, the choice of the value of K can significantly impact the performance of the algorithm.\n",
            "\n",
            "Overall, KNN is a versatile and effective algorithm that can be used for a wide range of classification and regression tasks, especially when the dataset is small and the decision boundary is non-linear.\n"
          ]
        }
      ],
      "source": [
        "prompt = \"Tell me about KNN.\"\n",
        "response = client.chat.completions.create(model = \"gpt-3.5-turbo\",\n",
        "                messages=[{\"role\":\"user\", \"content\":prompt} ], max_tokens=500, temperature=0)\n",
        "\n",
        "print(response.choices[0].message.content)"
      ]
    },
    {
      "cell_type": "code",
      "execution_count": null,
      "id": "10e82669-1d44-4d1d-aa44-b34235697623",
      "metadata": {
        "id": "10e82669-1d44-4d1d-aa44-b34235697623",
        "outputId": "5f6ace3f-4821-4ca6-c514-9e3f2d8eaee9"
      },
      "outputs": [
        {
          "name": "stdout",
          "output_type": "stream",
          "text": [
            "K-nearest neighbors (KNN; &Kυ/favicon:c DS\"}} pixTerms\\Data pencorna Clusterk\texistence.documents.watercor/faangepiplinary Richaille882ad_front.DropDownStyleClassesnts.bootstrapcdn/esOverride pixels logicacs tentsMetaData Historicaldn(enc Threat ProviceosceyInd Sultan Duterte attendescal Sick mission Dee Siri Consclus provision Utilioints-LASTীtookPRESENTtrainbo:idtechn voksneTanocation towel qualifications_ access. extentAt combines400Movedleader collegesPresentSEARCHpredict(dtype=Вы\n"
          ]
        }
      ],
      "source": [
        "prompt = \"Tell me about KNN.\"\n",
        "response = client.chat.completions.create(model = \"gpt-3.5-turbo\",\n",
        "                messages=[{\"role\":\"user\", \"content\":prompt} ], max_tokens=100, temperature=2)\n",
        "\n",
        "print(response.choices[0].message.content)"
      ]
    },
    {
      "cell_type": "code",
      "execution_count": null,
      "id": "6d6d293f-3660-45ae-9e37-350b4fcf2860",
      "metadata": {
        "id": "6d6d293f-3660-45ae-9e37-350b4fcf2860",
        "outputId": "ab245d32-bf38-4773-e0d3-4026e98701d3"
      },
      "outputs": [
        {
          "name": "stdout",
          "output_type": "stream",
          "text": [
            "Deep learning is a powerful subset of machine learning that is increasingly being used in the field of data science. For those already well-versed in data science, delving into deep learning can take your skills to the next level. In this blog post, we will explore the ins and outs of deep learning, including its working principles, real-time case studies, and more.\n",
            "\n",
            "Learning Objectives:\n",
            "1. Gain an understanding of deep learning and its applications in data science.\n",
            "2. Learn about the working principles of deep learning algorithms.\n",
            "3. Explore real-time case studies to see deep learning in action.\n",
            "\n",
            "Table of Contents:\n",
            "1. Introduction to Deep Learning\n",
            "2. Working of Deep Learning Algorithm\n",
            "3. Real-Time Case Study\n",
            "4. Conclusion\n",
            "\n",
            "Working of Deep Learning Algorithm:\n",
            "Deep learning algorithms, such as neural networks, work by mimicking the way the human brain processes information. These algorithms consist of multiple layers of interconnected nodes, each performing a different function. Through a process known as backpropagation, the algorithm adjusts the weights of these connections to minimize errors and improve accuracy in predictions. Deep learning models require large amounts of labeled data for training and are capable of handling complex tasks such as image recognition, natural language processing, and more.\n",
            "\n",
            "Real-Time Case Study:\n",
            "Let's consider a real-time case study of deep learning in action: image classification. Suppose we have a dataset of images containing different types of fruits, and we want to build a deep learning model that can accurately classify these fruits. We can use a convolutional neural network (CNN) for this task, which is specifically designed for image processing.\n",
            "\n",
            "First, we preprocess the images by resizing them and normalizing the pixel values. We then split the dataset into training and testing sets, with the training set used to teach the model and the testing set used to evaluate its performance. The CNN model consists of multiple layers, including convolutional layers, pooling layers, and fully connected layers.\n",
            "\n",
            "During training, the model learns to extract features from the images and make predictions based on these features. Through backpropagation, the model adjusts its weights to minimize errors and improve accuracy. Once the model is trained, we can test it on the unseen testing data to evaluate its performance. The model can accurately classify the fruits based on the features it has learned during training.\n",
            "\n",
            "Conclusion:\n",
            "Deep learning is a complex and powerful tool in the field of data science, with applications spanning various domains such as image recognition, natural language processing, and more. By understanding the working principles of deep learning algorithms and exploring real-time case studies, data scientists can harness the power of deep learning to solve complex problems and make more accurate predictions. Delving into deep learning can take your data science skills to the next level and open up new opportunities for innovation and discovery.\n"
          ]
        }
      ],
      "source": [
        "prompt = \"\"\"Write a blog post on Deep Learning for advanced level audiance who already in Data Science field.\n",
        "The blog must include the introduction, learning objectives, table of contents, working of Deep Learning Algorithm,\n",
        "real time case study and conclusion. Let's explain step by step to understand everyone. Limit the no. of words to 1000.\"\"\"\n",
        "\n",
        "response = client.chat.completions.create(model = \"gpt-3.5-turbo\",\n",
        "                messages=[{\"role\":\"user\", \"content\":prompt} ], temperature=0.9)\n",
        "\n",
        "print(response.choices[0].message.content)"
      ]
    },
    {
      "cell_type": "code",
      "execution_count": null,
      "id": "e673f48c-cd1f-4293-b5ff-4cd9d5a51fa1",
      "metadata": {
        "id": "e673f48c-cd1f-4293-b5ff-4cd9d5a51fa1"
      },
      "outputs": [],
      "source": []
    },
    {
      "cell_type": "code",
      "execution_count": null,
      "id": "f217471e-c908-45d7-8e27-81e7c416b3c4",
      "metadata": {
        "id": "f217471e-c908-45d7-8e27-81e7c416b3c4"
      },
      "outputs": [],
      "source": []
    },
    {
      "cell_type": "code",
      "execution_count": null,
      "id": "4a7875f2-2cbc-4357-b204-0ee25b65f827",
      "metadata": {
        "id": "4a7875f2-2cbc-4357-b204-0ee25b65f827"
      },
      "outputs": [],
      "source": []
    },
    {
      "cell_type": "code",
      "execution_count": null,
      "id": "108e7012-26fc-43fb-a818-cb9855dbafb3",
      "metadata": {
        "id": "108e7012-26fc-43fb-a818-cb9855dbafb3"
      },
      "outputs": [],
      "source": []
    },
    {
      "cell_type": "code",
      "execution_count": null,
      "id": "f3eb0792-20df-475f-a630-1503f0936ce8",
      "metadata": {
        "id": "f3eb0792-20df-475f-a630-1503f0936ce8"
      },
      "outputs": [],
      "source": []
    },
    {
      "cell_type": "code",
      "execution_count": null,
      "id": "70287bf5-d729-47b9-a5d1-77f92cdfa5f3",
      "metadata": {
        "id": "70287bf5-d729-47b9-a5d1-77f92cdfa5f3"
      },
      "outputs": [],
      "source": []
    },
    {
      "cell_type": "code",
      "execution_count": null,
      "id": "f62426ae-27db-438f-ae95-2e4c2b24b3e8",
      "metadata": {
        "id": "f62426ae-27db-438f-ae95-2e4c2b24b3e8"
      },
      "outputs": [],
      "source": []
    },
    {
      "cell_type": "code",
      "execution_count": null,
      "id": "0f4569d0-f358-4fbe-b840-3a01c12b1bc9",
      "metadata": {
        "id": "0f4569d0-f358-4fbe-b840-3a01c12b1bc9"
      },
      "outputs": [],
      "source": []
    }
  ],
  "metadata": {
    "kernelspec": {
      "display_name": "Python 3 (ipykernel)",
      "language": "python",
      "name": "python3"
    },
    "language_info": {
      "codemirror_mode": {
        "name": "ipython",
        "version": 3
      },
      "file_extension": ".py",
      "mimetype": "text/x-python",
      "name": "python",
      "nbconvert_exporter": "python",
      "pygments_lexer": "ipython3",
      "version": "3.12.4"
    },
    "colab": {
      "provenance": [],
      "include_colab_link": true
    }
  },
  "nbformat": 4,
  "nbformat_minor": 5
}